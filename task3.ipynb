{
 "cells": [
  {
   "cell_type": "code",
   "execution_count": 1,
   "metadata": {},
   "outputs": [],
   "source": [
    "import os\n",
    "import torch.nn as nn\n",
    "import torch.nn.functional as F\n",
    "import math\n",
    "import torch\n",
    "import positional_encodings\n",
    "from datasets.cityscapes import cityscapesDataset\n",
    "from datasets.pascalvoc import pascalVOCDataset\n",
    "import matplotlib.pyplot as plt\n",
    "from networks.hanet import HANet"
   ]
  },
  {
   "cell_type": "code",
   "execution_count": 2,
   "metadata": {},
   "outputs": [],
   "source": [
    "local_path = \"./VOCdevkit/VOC2012\"\n",
    "pckgs_names = [\"gtFine_trainvaltest.zip\",\"leftImg8bit_trainvaltest.zip\"]\n",
    "dir_names = [\"gtFine\", \"leftImg8bit\"]"
   ]
  },
  {
   "cell_type": "code",
   "execution_count": 3,
   "metadata": {},
   "outputs": [
    {
     "output_type": "execute_result",
     "data": {
      "text/plain": [
       "1464"
      ]
     },
     "metadata": {},
     "execution_count": 3
    }
   ],
   "source": [
    "training_data = pascalVOCDataset(local_path, split=\"train\")\n",
    "len(training_data)"
   ]
  },
  {
   "cell_type": "code",
   "execution_count": 5,
   "metadata": {},
   "outputs": [],
   "source": [
    "img, lbl = training_data[0]"
   ]
  },
  {
   "cell_type": "code",
   "execution_count": 6,
   "metadata": {},
   "outputs": [
    {
     "output_type": "execute_result",
     "data": {
      "text/plain": [
       "torch.Size([3, 512, 512])"
      ]
     },
     "metadata": {},
     "execution_count": 6
    }
   ],
   "source": [
    "img.size()"
   ]
  },
  {
   "cell_type": "code",
   "execution_count": 6,
   "metadata": {},
   "outputs": [],
   "source": [
    "\n",
    "        "
   ]
  },
  {
   "cell_type": "code",
   "execution_count": 9,
   "metadata": {},
   "outputs": [
    {
     "output_type": "execute_result",
     "data": {
      "text/plain": [
       "HANet(\n",
       "  (ww_pooling): AvgPool2d(kernel_size=(1, 512), stride=(1, 1), padding=0)\n",
       "  (down): Upsample(size=(16, 1), mode=bilinear)\n",
       "  (convs): Sequential(\n",
       "    (0): Conv1dPosEncRelu(\n",
       "      (conv): Conv1d(64, 2, kernel_size=(1,), stride=(1,))\n",
       "      (relu): ReLU()\n",
       "    )\n",
       "    (1): Conv1dPosEncRelu(\n",
       "      (conv): Conv1d(2, 4, kernel_size=(1,), stride=(1,))\n",
       "      (relu): ReLU()\n",
       "    )\n",
       "    (2): Conv1dPosEncSigmoid(\n",
       "      (conv): Conv1d(4, 128, kernel_size=(1,), stride=(1,))\n",
       "      (sigmoid): Sigmoid()\n",
       "    )\n",
       "  )\n",
       "  (up): Upsample(size=(512, 1), mode=bilinear)\n",
       ")"
      ]
     },
     "metadata": {},
     "execution_count": 9
    }
   ],
   "source": [
    "model = HANet((64, 512, 512), (128, 512, 512))\n",
    "model"
   ]
  },
  {
   "cell_type": "code",
   "execution_count": 10,
   "metadata": {},
   "outputs": [
    {
     "output_type": "stream",
     "name": "stdout",
     "text": [
      "X_l =  torch.Size([64, 512, 512])\nZ =  torch.Size([64, 512, 1])\nZ_hat =  torch.Size([64, 16])\n Q_1 =  torch.Size([2, 16])\n Q_2 =  torch.Size([4, 16])\n Q_3 =  torch.Size([128, 16])\nA_hat =  torch.Size([128, 16, 1])\nA =  torch.Size([128, 512, 1])\n"
     ]
    }
   ],
   "source": [
    "model.eval()\n",
    "outputs = model.forward(torch.rand(1,64,512,512))"
   ]
  },
  {
   "cell_type": "code",
   "execution_count": 119,
   "metadata": {},
   "outputs": [
    {
     "output_type": "execute_result",
     "data": {
      "text/plain": [
       "torch.Size([2, 3, 3])"
      ]
     },
     "metadata": {},
     "execution_count": 119
    }
   ],
   "source": [
    "my_tensor = torch.Tensor([[\n",
    "    [6,5, 12],\n",
    "    [1,2, -2],\n",
    "    [3,4, 5]], \n",
    "    [\n",
    "    [1,2,4],\n",
    "    [4,5,2], \n",
    "    [9,44,43]]])\n",
    "my_tensor.size()"
   ]
  },
  {
   "cell_type": "code",
   "execution_count": 120,
   "metadata": {},
   "outputs": [
    {
     "output_type": "execute_result",
     "data": {
      "text/plain": [
       "tensor([[[ 6.,  5., 12.],\n",
       "         [ 1.,  2., -2.],\n",
       "         [ 3.,  4.,  5.]],\n",
       "\n",
       "        [[ 1.,  2.,  4.],\n",
       "         [ 4.,  5.,  2.],\n",
       "         [ 9., 44., 43.]]])"
      ]
     },
     "metadata": {},
     "execution_count": 120
    }
   ],
   "source": [
    "my_tensor"
   ]
  },
  {
   "cell_type": "code",
   "execution_count": 121,
   "metadata": {},
   "outputs": [
    {
     "output_type": "execute_result",
     "data": {
      "text/plain": [
       "tensor([[[ 6.,  5., 12.],\n",
       "         [ 1.,  2., -2.],\n",
       "         [ 3.,  4.,  5.]],\n",
       "\n",
       "        [[ 1.,  2.,  4.],\n",
       "         [ 4.,  5.,  2.],\n",
       "         [ 9., 44., 43.]]])"
      ]
     },
     "metadata": {},
     "execution_count": 121
    }
   ],
   "source": [
    "my_tensor"
   ]
  },
  {
   "cell_type": "code",
   "execution_count": 122,
   "metadata": {},
   "outputs": [
    {
     "output_type": "execute_result",
     "data": {
      "text/plain": [
       "torch.Size([2, 3, 3])"
      ]
     },
     "metadata": {},
     "execution_count": 122
    }
   ],
   "source": [
    "my_tensor.size()"
   ]
  },
  {
   "cell_type": "code",
   "execution_count": 123,
   "metadata": {},
   "outputs": [],
   "source": [
    "model = HANet(in_dims=(2,2,3), out_dims=(3,3,1))"
   ]
  },
  {
   "cell_type": "code",
   "execution_count": 124,
   "metadata": {},
   "outputs": [
    {
     "output_type": "stream",
     "name": "stderr",
     "text": [
      "/home/pabvald/Documents/DSAI/simple-imageseg/.env/lib/python3.7/site-packages/torch/nn/functional.py:3455: UserWarning: Default upsampling behavior when mode=bilinear is changed to align_corners=False since 0.4.0. Please specify align_corners=True if the old behavior is desired. See the documentation of nn.Upsample for details.\n  \"See the documentation of nn.Upsample for details.\".format(mode)\n"
     ]
    },
    {
     "output_type": "execute_result",
     "data": {
      "text/plain": [
       "tensor([[[[ 5.8333],\n",
       "          [ 3.0833]],\n",
       "\n",
       "         [[ 2.6667],\n",
       "          [24.9167]]]])"
      ]
     },
     "metadata": {},
     "execution_count": 124
    }
   ],
   "source": [
    "my_tensor = model.forward(my_tensor.unsqueeze(0))\n",
    "my_tensor"
   ]
  },
  {
   "cell_type": "code",
   "execution_count": 17,
   "metadata": {},
   "outputs": [],
   "source": [
    "my_tensor = torch.rand(1,3,2,1)"
   ]
  },
  {
   "cell_type": "code",
   "execution_count": 18,
   "metadata": {},
   "outputs": [
    {
     "output_type": "execute_result",
     "data": {
      "text/plain": [
       "torch.Size([1, 3, 2, 1])"
      ]
     },
     "metadata": {},
     "execution_count": 18
    }
   ],
   "source": [
    "my_tensor.size()"
   ]
  },
  {
   "cell_type": "code",
   "execution_count": 19,
   "metadata": {},
   "outputs": [
    {
     "output_type": "execute_result",
     "data": {
      "text/plain": [
       "tensor([[[[0.5975],\n",
       "          [0.6271]],\n",
       "\n",
       "         [[0.1415],\n",
       "          [0.5546]],\n",
       "\n",
       "         [[0.8905],\n",
       "          [0.5586]]]])"
      ]
     },
     "metadata": {},
     "execution_count": 19
    }
   ],
   "source": [
    "my_tensor"
   ]
  },
  {
   "cell_type": "code",
   "execution_count": 20,
   "metadata": {},
   "outputs": [],
   "source": [
    "my_tensor = F.interpolate(my_tensor, size=(4,2), mode=\"bilinear\")"
   ]
  },
  {
   "cell_type": "code",
   "execution_count": 21,
   "metadata": {},
   "outputs": [
    {
     "output_type": "execute_result",
     "data": {
      "text/plain": [
       "torch.Size([1, 3, 4, 2])"
      ]
     },
     "metadata": {},
     "execution_count": 21
    }
   ],
   "source": [
    "my_tensor.size()"
   ]
  },
  {
   "cell_type": "code",
   "execution_count": 22,
   "metadata": {},
   "outputs": [
    {
     "output_type": "execute_result",
     "data": {
      "text/plain": [
       "tensor([[[[0.5975, 0.5975],\n",
       "          [0.6049, 0.6049],\n",
       "          [0.6197, 0.6197],\n",
       "          [0.6271, 0.6271]],\n",
       "\n",
       "         [[0.1415, 0.1415],\n",
       "          [0.2448, 0.2448],\n",
       "          [0.4514, 0.4514],\n",
       "          [0.5546, 0.5546]],\n",
       "\n",
       "         [[0.8905, 0.8905],\n",
       "          [0.8075, 0.8075],\n",
       "          [0.6415, 0.6415],\n",
       "          [0.5586, 0.5586]]]])"
      ]
     },
     "metadata": {},
     "execution_count": 22
    }
   ],
   "source": [
    "my_tensor"
   ]
  },
  {
   "cell_type": "code",
   "execution_count": null,
   "metadata": {},
   "outputs": [],
   "source": []
  }
 ],
 "metadata": {
  "kernelspec": {
   "display_name": "Python 3",
   "language": "python",
   "name": "python3"
  },
  "language_info": {
   "codemirror_mode": {
    "name": "ipython",
    "version": 3
   },
   "file_extension": ".py",
   "mimetype": "text/x-python",
   "name": "python",
   "nbconvert_exporter": "python",
   "pygments_lexer": "ipython3",
   "version": "3.7.10-final"
  }
 },
 "nbformat": 4,
 "nbformat_minor": 4
}