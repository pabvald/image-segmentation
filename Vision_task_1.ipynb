{
 "cells": [
  {
   "cell_type": "markdown",
   "metadata": {
    "id": "HQ9Py4OcKUvM"
   },
   "source": [
    "# Image Segmentation Task 1\n",
    "#### Welcome to the first task of Image Segmentation. Image segmentation is the process of partitioning the image into a set of pixels representing an object. In this task, you will be introduced to the problem of image segmentation and programming pipeline involved in image segmentation."
   ]
  },
  {
   "cell_type": "markdown",
   "metadata": {
    "id": "Z_1TrID_KUvT"
   },
   "source": [
    "For the purpose of this task we will be using PASCAL VOC datset. The dataset contains a total of 2913 images with segmentation annotations. Code in the cell below will download the code and extract the dataset."
   ]
  },
  {
   "cell_type": "code",
   "execution_count": null,
   "metadata": {
    "id": "zM_t4c-S3k31"
   },
   "outputs": [],
   "source": [
    "!wget http://host.robots.ox.ac.uk/pascal/VOC/voc2012/VOCtrainval_11-May-2012.tar\n",
    "!tar -xvf VOCtrainval_11-May-2012.tar"
   ]
  },
  {
   "cell_type": "code",
   "execution_count": null,
   "metadata": {
    "colab": {
     "base_uri": "https://localhost:8080/"
    },
    "id": "6lvs9XIpBaI0",
    "outputId": "d522bc9b-a800-45dd-c696-c4799b0fbb4a"
   },
   "outputs": [],
   "source": [
    "!pip install scipy==1.1.0"
   ]
  },
  {
   "cell_type": "markdown",
   "metadata": {
    "id": "nu-CLHg5KUvW"
   },
   "source": [
    "### 1.1 Loading the dataset"
   ]
  },
  {
   "cell_type": "code",
   "execution_count": 1,
   "metadata": {},
   "outputs": [],
   "source": [
    "import os\n",
    "from os.path import join as pjoin\n",
    "import collections\n",
    "import json\n",
    "import torch\n",
    "import imageio\n",
    "import numpy as np\n",
    "import scipy.misc as m\n",
    "import scipy.io as io\n",
    "import matplotlib.pyplot as plt\n",
    "import glob\n",
    "\n",
    "from PIL import Image\n",
    "from tqdm import tqdm\n",
    "from torch.utils import data\n",
    "from torchvision import transforms\n",
    "from sklearn.metrics import roc_auc_score, f1_score \n",
    "\n",
    "import torch.optim as optim\n",
    "import copy\n"
   ]
  },
  {
   "cell_type": "code",
   "execution_count": 2,
   "metadata": {
    "id": "qunDv45j24Mg"
   },
   "outputs": [],
   "source": [
    "class pascalVOCDataset(data.Dataset):\n",
    "    \"\"\"Data loader for the Pascal VOC semantic segmentation dataset.\n",
    "\n",
    "    Annotations from both the original VOC data (which consist of RGB images\n",
    "    in which colours map to specific classes) and the SBD (Berkely) dataset\n",
    "    (where annotations are stored as .mat files) are converted into a common\n",
    "    `label_mask` format.  Under this format, each mask is an (M,N) array of\n",
    "    integer values from 0 to 21, where 0 represents the background class.\n",
    "\n",
    "    The label masks are stored in a new folder, called `pre_encoded`, which\n",
    "    is added as a subdirectory of the `SegmentationClass` folder in the\n",
    "    original Pascal VOC data layout.\n",
    "\n",
    "    A total of five data splits are provided for working with the VOC data:\n",
    "        train: The original VOC 2012 training data - 1464 images\n",
    "        val: The original VOC 2012 validation data - 1449 images\n",
    "        trainval: The combination of `train` and `val` - 2913 images\n",
    "        train_aug: The unique images present in both the train split and\n",
    "                   training images from SBD: - 8829 images (the unique members\n",
    "                   of the result of combining lists of length 1464 and 8498)\n",
    "        train_aug_val: The original VOC 2012 validation data minus the images\n",
    "                   present in `train_aug` (This is done with the same logic as\n",
    "                   the validation set used in FCN PAMI paper, but with VOC 2012\n",
    "                   rather than VOC 2011) - 904 images\n",
    "    \"\"\"\n",
    "\n",
    "    def __init__(\n",
    "        self,\n",
    "        root,\n",
    "        sbd_path=None,\n",
    "        split=\"train_aug\",\n",
    "        is_transform=True,\n",
    "        img_size=512,\n",
    "        augmentations=None,\n",
    "        img_norm=True,\n",
    "        test_mode=False,\n",
    "    ):\n",
    "        self.root = root\n",
    "        self.sbd_path = sbd_path\n",
    "        self.split = split\n",
    "        self.is_transform = is_transform\n",
    "        self.augmentations = augmentations\n",
    "        self.img_norm = img_norm\n",
    "        self.test_mode = test_mode\n",
    "        self.n_classes = 21\n",
    "        self.mean = np.array([104.00699, 116.66877, 122.67892])\n",
    "        self.files = collections.defaultdict(list)\n",
    "        self.img_size = img_size if isinstance(img_size, tuple) else (img_size, img_size)\n",
    "\n",
    "        if not self.test_mode:\n",
    "            for split in [\"train\", \"val\", \"trainval\"]:\n",
    "                path = pjoin(self.root, \"ImageSets/Segmentation\", split + \".txt\")\n",
    "                file_list = tuple(open(path, \"r\"))\n",
    "                file_list = [id_.rstrip() for id_ in file_list]\n",
    "                self.files[split] = file_list\n",
    "            self.setup_annotations()\n",
    "\n",
    "        self.tf = transforms.Compose(\n",
    "            [\n",
    "                # add more trasnformations as you see fit\n",
    "                transforms.ToTensor(),\n",
    "                transforms.Normalize([0.485, 0.456, 0.406], [0.229, 0.224, 0.225]),\n",
    "            ]\n",
    "        )\n",
    "\n",
    "    def __len__(self):\n",
    "        return len(self.files[self.split])\n",
    "\n",
    "    def __getitem__(self, index):\n",
    "        im_name = self.files[self.split][index]\n",
    "        im_path = pjoin(self.root, \"JPEGImages\", im_name + \".jpg\")\n",
    "        lbl_path = pjoin(self.root, \"SegmentationClass/pre_encoded\", im_name + \".png\")\n",
    "        im = Image.open(im_path)\n",
    "        lbl = Image.open(lbl_path)\n",
    "        if self.augmentations is not None:\n",
    "            im, lbl = self.augmentations(im, lbl)\n",
    "        if self.is_transform:\n",
    "            im, lbl = self.transform(im, lbl)\n",
    "        return im, torch.clamp(lbl, max=20)\n",
    "\n",
    "    def transform(self, img, lbl):\n",
    "        if self.img_size == (\"same\", \"same\"):\n",
    "            pass\n",
    "        else:\n",
    "            img = img.resize((self.img_size[0], self.img_size[1]))  # uint8 with RGB mode\n",
    "            lbl = lbl.resize((self.img_size[0], self.img_size[1]))\n",
    "        img = self.tf(img)\n",
    "        lbl = torch.from_numpy(np.array(lbl)).long()\n",
    "        lbl[lbl == 255] = 0\n",
    "        return img, lbl\n",
    "\n",
    "    def get_pascal_labels(self):\n",
    "        \"\"\"Load the mapping that associates pascal classes with label colors\n",
    "\n",
    "        Returns:\n",
    "            np.ndarray with dimensions (21, 3)\n",
    "        \"\"\"\n",
    "        return np.asarray(\n",
    "            [\n",
    "                [0, 0, 0],\n",
    "                [128, 0, 0],\n",
    "                [0, 128, 0],\n",
    "                [128, 128, 0],\n",
    "                [0, 0, 128],\n",
    "                [128, 0, 128],\n",
    "                [0, 128, 128],\n",
    "                [128, 128, 128],\n",
    "                [64, 0, 0],\n",
    "                [192, 0, 0],\n",
    "                [64, 128, 0],\n",
    "                [192, 128, 0],\n",
    "                [64, 0, 128],\n",
    "                [192, 0, 128],\n",
    "                [64, 128, 128],\n",
    "                [192, 128, 128],\n",
    "                [0, 64, 0],\n",
    "                [128, 64, 0],\n",
    "                [0, 192, 0],\n",
    "                [128, 192, 0],\n",
    "                [0, 64, 128],\n",
    "            ]\n",
    "        )\n",
    "\n",
    "    def encode_segmap(self, mask):\n",
    "        \"\"\"Encode segmentation label images as pascal classes\n",
    "\n",
    "        Args:\n",
    "            mask (np.ndarray): raw segmentation label image of dimension\n",
    "              (M, N, 3), in which the Pascal classes are encoded as colours.\n",
    "\n",
    "        Returns:\n",
    "            (np.ndarray): class map with dimensions (M,N), where the value at\n",
    "            a given location is the integer denoting the class index.\n",
    "        \"\"\"\n",
    "        mask = mask.astype(int)\n",
    "        label_mask = np.zeros((mask.shape[0], mask.shape[1]), dtype=np.int16)\n",
    "        for ii, label in enumerate(self.get_pascal_labels()):\n",
    "            label_mask[np.where(np.all(mask == label, axis=-1))[:2]] = ii\n",
    "        label_mask = label_mask.astype(int)\n",
    "        # print(np.unique(label_mask))\n",
    "        return label_mask\n",
    "\n",
    "    def decode_segmap(self, label_mask, plot=False):\n",
    "        \"\"\"Decode segmentation class labels into a color image\n",
    "\n",
    "        Args:\n",
    "            label_mask (np.ndarray): an (M,N) array of integer values denoting\n",
    "              the class label at each spatial location.\n",
    "            plot (bool, optional): whether to show the resulting color image\n",
    "              in a figure.\n",
    "\n",
    "        Returns:\n",
    "            (np.ndarray, optional): the resulting decoded color image.\n",
    "        \"\"\"\n",
    "        label_colours = self.get_pascal_labels()\n",
    "        r = label_mask.copy()\n",
    "        g = label_mask.copy()\n",
    "        b = label_mask.copy()\n",
    "        for ll in range(0, self.n_classes):\n",
    "            r[label_mask == ll] = label_colours[ll, 0]\n",
    "            g[label_mask == ll] = label_colours[ll, 1]\n",
    "            b[label_mask == ll] = label_colours[ll, 2]\n",
    "        rgb = np.zeros((label_mask.shape[0], label_mask.shape[1], 3))\n",
    "        rgb[:, :, 0] = r / 255.0\n",
    "        rgb[:, :, 1] = g / 255.0\n",
    "        rgb[:, :, 2] = b / 255.0\n",
    "        if plot:\n",
    "            plt.imshow(rgb)\n",
    "            plt.show()\n",
    "        else:\n",
    "            return rgb\n",
    "\n",
    "    def setup_annotations(self):\n",
    "        \"\"\"Sets up Berkley annotations by adding image indices to the\n",
    "        `train_aug` split and pre-encode all segmentation labels into the\n",
    "        common label_mask format (if this has not already been done). This\n",
    "        function also defines the `train_aug` and `train_aug_val` data splits\n",
    "        according to the description in the class docstring\n",
    "        \"\"\"\n",
    "        sbd_path = self.sbd_path\n",
    "        target_path = pjoin(self.root, \"SegmentationClass/pre_encoded\")\n",
    "        if not os.path.exists(target_path):\n",
    "            os.makedirs(target_path)\n",
    "        train_aug = self.files[\"train\"]\n",
    "\n",
    "        # keep unique elements (stable)\n",
    "        train_aug = [train_aug[i] for i in sorted(np.unique(train_aug, return_index=True)[1])]\n",
    "        self.files[\"train_aug\"] = train_aug\n",
    "        set_diff = set(self.files[\"val\"]) - set(train_aug)  # remove overlap\n",
    "        self.files[\"train_aug_val\"] = list(set_diff)\n",
    "\n",
    "        pre_encoded = glob.glob(pjoin(target_path, \"*.png\"))\n",
    "        expected = np.unique(self.files[\"train_aug\"] + self.files[\"val\"]).size\n",
    "\n",
    "        if len(pre_encoded) != expected:\n",
    "            print(\"Pre-encoding segmentation masks...\")\n",
    "\n",
    "            for ii in tqdm(self.files[\"trainval\"]):\n",
    "                fname = ii + \".png\"\n",
    "                lbl_path = pjoin(self.root, \"SegmentationClass\", fname)\n",
    "                lbl = self.encode_segmap(m.imread(lbl_path))\n",
    "                lbl = m.toimage(lbl, high=lbl.max(), low=lbl.min())\n",
    "                m.imsave(pjoin(target_path, fname), lbl)\n",
    "\n",
    "        assert expected == 2913, \"unexpected dataset sizes\""
   ]
  },
  {
   "cell_type": "markdown",
   "metadata": {
    "id": "qoFQrhQtKUva"
   },
   "source": [
    "### 1.2 Define the model architecture(2.0 point)\n",
    "In this section you have the freedom to decide your own model. Keep in mind though, to perform image segmentation, you need to implement an architecture that does pixel level classification i.e. for each pixel in the image you need to predict the probability of it belonging to one of the 21 categories."
   ]
  },
  {
   "cell_type": "code",
   "execution_count": null,
   "metadata": {
    "id": "CatAsvH3GTXs"
   },
   "outputs": [],
   "source": [
    "import torch.nn as nn\n",
    "import torch.nn.functional as F\n",
    "import torchvision.models as models\n",
    "\n",
    "class Net(nn.Module):\n",
    "  \n",
    "    def __init__(self):\n",
    "        super(Net, self).__init__()\n",
    "\n",
    "        #https://arxiv.org/abs/1411.4038\n",
    "\n",
    "        self.encoder = models.vgg16(pretrained = True).features\n",
    "\n",
    "        self.conv1 = nn.Conv2d(512, 4096, 1)\n",
    "        \n",
    "        self.conv2 = nn.Conv2d(4096, 4096, 1)\n",
    "        \n",
    "        self.conv3 = nn.Conv2d(4096, 21, 1)\n",
    "        \n",
    "        self.convtrans = nn.ConvTranspose2d(21, 21, 32, stride = 32, bias = False)\n",
    "\n",
    "    def forward(self, x):\n",
    "        #define the forward pass\n",
    "        x = self.encoder(x)\n",
    "        x = F.dropout(F.relu(self.conv1(x)))\n",
    "        x = F.dropout(F.relu(self.conv2(x)))\n",
    "        x = self.conv3(x)\n",
    "        x = self.convtrans(x)\n",
    "        return x"
   ]
  },
  {
   "cell_type": "code",
   "execution_count": 3,
   "metadata": {},
   "outputs": [],
   "source": [
    "import torch.nn as nn\n",
    "import torch.nn.functional as F\n",
    "import torchvision.models as models\n",
    "\n",
    "class Net(nn.Module):\n",
    "  \n",
    "    def __init__(self):\n",
    "        super(Net, self).__init__()\n",
    "\n",
    "        self.encoder = models.vgg16(pretrained = True).features\n",
    "\n",
    "        self.conv1 = nn.Conv2d(512, 21, 1)\n",
    "\n",
    "        self.convtrans = nn.ConvTranspose2d(21, 21, 62, stride = 30)\n",
    "\n",
    "    def forward(self, x):\n",
    "        #define the forward pass\n",
    "        x = self.encoder(x)\n",
    "        x = self.conv1(x)\n",
    "        x = self.convtrans(x)\n",
    "        return x"
   ]
  },
  {
   "cell_type": "code",
   "execution_count": 4,
   "metadata": {},
   "outputs": [],
   "source": [
    "import os\n",
    "os.environ[\"CUDA_VISIBLE_DEVICES\"]=\"6\" "
   ]
  },
  {
   "cell_type": "code",
   "execution_count": 5,
   "metadata": {},
   "outputs": [],
   "source": [
    "device = torch.device('cuda' if torch.cuda.is_available() else 'cpu')"
   ]
  },
  {
   "cell_type": "code",
   "execution_count": 6,
   "metadata": {},
   "outputs": [],
   "source": [
    "model = Net()\n",
    "if torch.cuda.is_available():\n",
    "    model.cuda()"
   ]
  },
  {
   "cell_type": "code",
   "execution_count": null,
   "metadata": {},
   "outputs": [],
   "source": [
    "#!conda install -c conda-forge ipywidgets --yes\n",
    "#!jupyter nbextension enable --py widgetsnbextension"
   ]
  },
  {
   "cell_type": "code",
   "execution_count": null,
   "metadata": {},
   "outputs": [],
   "source": [
    "pred = model(train_data[0][0].unsqueeze(dim = 0).to(device))[0][10]"
   ]
  },
  {
   "cell_type": "markdown",
   "metadata": {
    "id": "-bkPyqKBKUve"
   },
   "source": [
    "### 1.3 Hyperparameters(0.5 points)\n",
    "Define all the hyperparameters(not restricted to the three given below) that you find useful here."
   ]
  },
  {
   "cell_type": "code",
   "execution_count": 124,
   "metadata": {
    "id": "KQndbcwhKUvf"
   },
   "outputs": [],
   "source": [
    "local_path = 'VOCdevkit/VOC2012/' # modify it according to your device\n",
    "bs = 10\n",
    "epochs = 20\n",
    "learning_rate = 0.01"
   ]
  },
  {
   "cell_type": "markdown",
   "metadata": {
    "id": "fKSOTIeVKUvf"
   },
   "source": [
    "### 1.4 Dataset and Dataloader(0.5 points)\n",
    "Create the dataset using pascalVOCDataset class defined above. Use local_path defined in the cell above as root. "
   ]
  },
  {
   "cell_type": "code",
   "execution_count": 8,
   "metadata": {
    "id": "OoYCnXKqKUvg"
   },
   "outputs": [],
   "source": [
    "# dataloader variable\n",
    "train_data = pascalVOCDataset(local_path, split = \"train\")\n",
    "val_data = pascalVOCDataset(local_path, split = \"val\")"
   ]
  },
  {
   "cell_type": "code",
   "execution_count": 9,
   "metadata": {
    "id": "O-tqtnw9fqFV"
   },
   "outputs": [],
   "source": [
    "dataset_sizes = {\n",
    "    'train' : len(train_data),\n",
    "    'val': len(val_data)\n",
    "}\n",
    "\n",
    "dataloaders = {\n",
    "    'train' : data.DataLoader(train_data, batch_size=bs, shuffle=True, num_workers=0),\n",
    "    'val': data.DataLoader(val_data, batch_size=bs, shuffle=True, num_workers=0)\n",
    "}"
   ]
  },
  {
   "cell_type": "markdown",
   "metadata": {
    "id": "c7yxoK1pKUvg"
   },
   "source": [
    "### 1.5 Loss fuction and Optimizer(1.0 point)\n",
    "Define below with the loss function you think would be most suitable for segmentation task. You are free to choose any optimizer to train the network."
   ]
  },
  {
   "cell_type": "code",
   "execution_count": null,
   "metadata": {},
   "outputs": [],
   "source": [
    "def median_frequency_balancing(training_data, n_classes):\n",
    "    \"\"\" The weight of class c  is computed as weight(c) = median freq/freq(c) where \n",
    "    freq(c) is the number of pixels of class c divided by the total number of \n",
    "    pixels in images where c is present, and median freq is the median of these \n",
    "    frequencies. Based on the paper `Predicting Depth, Surface Normals and Semantic \n",
    "    Labels with a Common Multi-Scale Convolutional Architecture <http://https://arxiv.org/abs/1411.4734>`_\n",
    "\n",
    "    Args:\n",
    "    training_data (array): training dataset of pairs (image, labels)\n",
    "    n_classes (int): number of classes\n",
    "\n",
    "    Returns: \n",
    "    (torch.Tensor): weight of each class\n",
    "    \"\"\"\n",
    "    freqs = np.zeros(n_classes) # Frequencies of each class\n",
    "    pixel_counts = np.zeros(n_classes) # Number of pixels of class c\n",
    "    total_counts = np.zeros(n_classes) # Total number of pixels in images where c is present\n",
    "\n",
    "    for p in range(len(training_data)):\n",
    "        pixels = training_data[p][1].numpy()\n",
    "        classes, counts = np.unique(pixels, return_counts=True)\n",
    "        total_pixels = (pixels.shape[0] * pixels.shape[1]) \n",
    "\n",
    "        for i, c in enumerate(classes): \n",
    "            pixel_counts[c] += counts[i]\n",
    "            total_counts[c] += total_pixels\n",
    "\n",
    "    for i in range(freqs.shape[0]):\n",
    "        freqs[i] = pixel_counts[i] / total_counts[i]\n",
    "\n",
    "    median = np.median(freqs)  \n",
    "    weights = median / freqs \n",
    "\n",
    "    return torch.from_numpy(weights).float()\n"
   ]
  },
  {
   "cell_type": "code",
   "execution_count": 10,
   "metadata": {
    "id": "fz6dyHS1KUvg"
   },
   "outputs": [],
   "source": [
    "# loss function\n",
    "loss_f = nn.CrossEntropyLoss()\n",
    "\n",
    "# optimizer variable\n",
    "opt = optim.SGD(model.parameters(), lr=learning_rate, momentum=0.9)"
   ]
  },
  {
   "cell_type": "markdown",
   "metadata": {
    "id": "qnURNmsNKUvg"
   },
   "source": [
    "### 1.6 Training the model(3.0 points)\n",
    "Your task here is to complete the code below to perform a training loop and save the model weights after each epoch of training."
   ]
  },
  {
   "cell_type": "code",
   "execution_count": 11,
   "metadata": {
    "colab": {
     "base_uri": "https://localhost:8080/",
     "height": 449
    },
    "id": "Xz08hSdPKODm",
    "outputId": "337dfc69-4cbd-4d49-f062-8d293ed06b02",
    "scrolled": false
   },
   "outputs": [],
   "source": [
    "def train_model():\n",
    "    \n",
    "    model_path = 'models/lr001'\n",
    "    best_model_wts = copy.deepcopy(model.state_dict())\n",
    "    best_acc = 0.0\n",
    "    val_losses = []\n",
    "    val_accuracies = []\n",
    "    \n",
    "    \n",
    "    for epoch in range(epochs):\n",
    "        \n",
    "\n",
    "        # your code goes here\n",
    "        for phase in ['train', 'val']:\n",
    "            \n",
    "            if phase == 'train':\n",
    "                model.train()\n",
    "            else:\n",
    "                model.eval()\n",
    "            \n",
    "            running_corrects = 0\n",
    "            running_loss = 0.0\n",
    "            \n",
    "            for inputs, labels in dataloaders[phase]:\n",
    "\n",
    "                inputs = inputs.to(device)\n",
    "                labels = labels.to(device)\n",
    "\n",
    "                opt.zero_grad()\n",
    "\n",
    "                with torch.set_grad_enabled(phase == 'train'):\n",
    "                    outputs = model(inputs)\n",
    "                    loss = loss_f(outputs, labels)\n",
    "                    preds = torch.argmax(outputs, dim = 1)\n",
    "                    \n",
    "                    if phase == 'train':\n",
    "                        loss.backward()\n",
    "                        opt.step()\n",
    "\n",
    "                running_loss += loss.item() * inputs.size(0)\n",
    "                \n",
    "\n",
    "            epoch_loss = running_loss / dataset_sizes[phase]            \n",
    "\n",
    "            print('{} Loss: {:.4f} '.format(\n",
    "                    phase, epoch_loss))\n",
    "        \n",
    "        #https://discuss.pytorch.org/t/how-to-save-a-model-from-a-previous-epoch/20252/4\n",
    "        \n",
    "        torch.save(model.state_dict(), os.path.join(model_path, 'epoch-{}.pt'.format(epoch+10)))\n",
    "        \n",
    "        print()\n",
    "    \n",
    "    return model\n"
   ]
  },
  {
   "cell_type": "code",
   "execution_count": null,
   "metadata": {
    "scrolled": false
   },
   "outputs": [],
   "source": [
    "model = train_model()"
   ]
  },
  {
   "cell_type": "code",
   "execution_count": 12,
   "metadata": {},
   "outputs": [
    {
     "data": {
      "text/plain": [
       "<All keys matched successfully>"
      ]
     },
     "execution_count": 12,
     "metadata": {},
     "output_type": "execute_result"
    }
   ],
   "source": [
    "model.load_state_dict(torch.load(\"models/lr001/epoch-11.pt\"))"
   ]
  },
  {
   "cell_type": "markdown",
   "metadata": {
    "id": "4Nq6SAb4KUvh"
   },
   "source": [
    "### 1.7 Evaluate your model(1.5 points)\n",
    "In this section you have to implement the evaluation metrics for your model. Calculate the values of F1-score, dice coefficient and AUC-ROC score on the data you used for training. You can use external packages like scikit-learn to compute above metrics."
   ]
  },
  {
   "cell_type": "code",
   "execution_count": null,
   "metadata": {
    "id": "Xvlonui_KUvh"
   },
   "outputs": [],
   "source": [
    "def evaluate(ground_truth, predictions):\n",
    "    `\n",
    "    return f1_score, auc_score, dice_coeeficient"
   ]
  },
  {
   "cell_type": "markdown",
   "metadata": {
    "id": "Lzr3SeldKUvh"
   },
   "source": [
    "### 1.8 Plot the evaluation metrics against epochs(1.0)\n",
    "In section 1.6 we saved the weights of the model after each epoch. In this section, you have to calculate the evaluation metrics after each epoch of training by loading the weights for each epoch. Once you have calculated the evaluation metrics for each epoch, plot them against the epochs."
   ]
  },
  {
   "cell_type": "code",
   "execution_count": 120,
   "metadata": {},
   "outputs": [],
   "source": [
    "from sklearn.metrics import roc_auc_score, f1_score\n",
    "np.set_printoptions(suppress=True)"
   ]
  },
  {
   "cell_type": "code",
   "execution_count": 121,
   "metadata": {},
   "outputs": [
    {
     "data": {
      "text/plain": [
       "Net(\n",
       "  (encoder): Sequential(\n",
       "    (0): Conv2d(3, 64, kernel_size=(3, 3), stride=(1, 1), padding=(1, 1))\n",
       "    (1): ReLU(inplace=True)\n",
       "    (2): Conv2d(64, 64, kernel_size=(3, 3), stride=(1, 1), padding=(1, 1))\n",
       "    (3): ReLU(inplace=True)\n",
       "    (4): MaxPool2d(kernel_size=2, stride=2, padding=0, dilation=1, ceil_mode=False)\n",
       "    (5): Conv2d(64, 128, kernel_size=(3, 3), stride=(1, 1), padding=(1, 1))\n",
       "    (6): ReLU(inplace=True)\n",
       "    (7): Conv2d(128, 128, kernel_size=(3, 3), stride=(1, 1), padding=(1, 1))\n",
       "    (8): ReLU(inplace=True)\n",
       "    (9): MaxPool2d(kernel_size=2, stride=2, padding=0, dilation=1, ceil_mode=False)\n",
       "    (10): Conv2d(128, 256, kernel_size=(3, 3), stride=(1, 1), padding=(1, 1))\n",
       "    (11): ReLU(inplace=True)\n",
       "    (12): Conv2d(256, 256, kernel_size=(3, 3), stride=(1, 1), padding=(1, 1))\n",
       "    (13): ReLU(inplace=True)\n",
       "    (14): Conv2d(256, 256, kernel_size=(3, 3), stride=(1, 1), padding=(1, 1))\n",
       "    (15): ReLU(inplace=True)\n",
       "    (16): MaxPool2d(kernel_size=2, stride=2, padding=0, dilation=1, ceil_mode=False)\n",
       "    (17): Conv2d(256, 512, kernel_size=(3, 3), stride=(1, 1), padding=(1, 1))\n",
       "    (18): ReLU(inplace=True)\n",
       "    (19): Conv2d(512, 512, kernel_size=(3, 3), stride=(1, 1), padding=(1, 1))\n",
       "    (20): ReLU(inplace=True)\n",
       "    (21): Conv2d(512, 512, kernel_size=(3, 3), stride=(1, 1), padding=(1, 1))\n",
       "    (22): ReLU(inplace=True)\n",
       "    (23): MaxPool2d(kernel_size=2, stride=2, padding=0, dilation=1, ceil_mode=False)\n",
       "    (24): Conv2d(512, 512, kernel_size=(3, 3), stride=(1, 1), padding=(1, 1))\n",
       "    (25): ReLU(inplace=True)\n",
       "    (26): Conv2d(512, 512, kernel_size=(3, 3), stride=(1, 1), padding=(1, 1))\n",
       "    (27): ReLU(inplace=True)\n",
       "    (28): Conv2d(512, 512, kernel_size=(3, 3), stride=(1, 1), padding=(1, 1))\n",
       "    (29): ReLU(inplace=True)\n",
       "    (30): MaxPool2d(kernel_size=2, stride=2, padding=0, dilation=1, ceil_mode=False)\n",
       "  )\n",
       "  (conv1): Conv2d(512, 21, kernel_size=(1, 1), stride=(1, 1))\n",
       "  (convtrans): ConvTranspose2d(21, 21, kernel_size=(62, 62), stride=(30, 30))\n",
       ")"
      ]
     },
     "execution_count": 121,
     "metadata": {},
     "output_type": "execute_result"
    }
   ],
   "source": [
    "model.eval()"
   ]
  },
  {
   "cell_type": "code",
   "execution_count": 129,
   "metadata": {},
   "outputs": [],
   "source": [
    "f1_epochs = []\n",
    "for epoch in range(epochs):\n",
    "    model.load_state_dict(torch.load('models/lr001/epoch-{}.pt'.format(epoch)))\n",
    "    \n",
    "    with torch.no_grad():\n",
    "        preds = []\n",
    "        val_labels = []\n",
    "\n",
    "        for batch in (dataloaders[\"val\"]):\n",
    "            preds.append(torch.argmax(model(batch[0].to(device)).detach().cpu(),dim = 1))\n",
    "            val_labels.append(batch[1])\n",
    "\n",
    "        preds = torch.flatten(torch.cat(preds))\n",
    "        val_labels = torch.flatten(torch.cat(val_labels))\n",
    "        f1 = f1_score(preds, val_labels, average = None, labels = list(range(0,21)))\n",
    "        f1_epochs.append(f1)\n",
    "        \n",
    "        \n",
    "torch.save(f1_epochs, 'f1_epochs.pt')"
   ]
  },
  {
   "cell_type": "code",
   "execution_count": 149,
   "metadata": {},
   "outputs": [
    {
     "data": {
      "text/plain": [
       "[array([0.81548166, 0.0263453 , 0.        , 0.01223137, 0.0007286 ,\n",
       "        0.00334498, 0.03496107, 0.03127655, 0.02524525, 0.01369891,\n",
       "        0.00296611, 0.02378907, 0.02632961, 0.01603223, 0.01841586,\n",
       "        0.06104128, 0.0005088 , 0.00001136, 0.00368464, 0.02542214,\n",
       "        0.00681879]),\n",
       " array([0.81548166, 0.0263453 , 0.        , 0.01223137, 0.0007286 ,\n",
       "        0.00334498, 0.03496107, 0.03127655, 0.02524525, 0.01369891,\n",
       "        0.00296611, 0.02378907, 0.02632961, 0.01603223, 0.01841586,\n",
       "        0.06104128, 0.0005088 , 0.00001136, 0.00368464, 0.02542214,\n",
       "        0.00681879]),\n",
       " array([0.81548166, 0.0263453 , 0.        , 0.01223137, 0.0007286 ,\n",
       "        0.00334498, 0.03496107, 0.03127655, 0.02524525, 0.01369891,\n",
       "        0.00296611, 0.02378907, 0.02632961, 0.01603223, 0.01841586,\n",
       "        0.06104128, 0.0005088 , 0.00001136, 0.00368464, 0.02542214,\n",
       "        0.00681879]),\n",
       " array([0.81548166, 0.0263453 , 0.        , 0.01223137, 0.0007286 ,\n",
       "        0.00334498, 0.03496107, 0.03127655, 0.02524525, 0.01369891,\n",
       "        0.00296611, 0.02378907, 0.02632961, 0.01603223, 0.01841586,\n",
       "        0.06104128, 0.0005088 , 0.00001136, 0.00368464, 0.02542214,\n",
       "        0.00681879]),\n",
       " array([0.81548166, 0.0263453 , 0.        , 0.01223137, 0.0007286 ,\n",
       "        0.00334498, 0.03496107, 0.03127655, 0.02524525, 0.01369891,\n",
       "        0.00296611, 0.02378907, 0.02632961, 0.01603223, 0.01841586,\n",
       "        0.06104128, 0.0005088 , 0.00001136, 0.00368464, 0.02542214,\n",
       "        0.00681879]),\n",
       " array([0.81548166, 0.0263453 , 0.        , 0.01223137, 0.0007286 ,\n",
       "        0.00334498, 0.03496107, 0.03127655, 0.02524525, 0.01369891,\n",
       "        0.00296611, 0.02378907, 0.02632961, 0.01603223, 0.01841586,\n",
       "        0.06104128, 0.0005088 , 0.00001136, 0.00368464, 0.02542214,\n",
       "        0.00681879]),\n",
       " array([0.81548166, 0.0263453 , 0.        , 0.01223137, 0.0007286 ,\n",
       "        0.00334498, 0.03496107, 0.03127655, 0.02524525, 0.01369891,\n",
       "        0.00296611, 0.02378907, 0.02632961, 0.01603223, 0.01841586,\n",
       "        0.06104128, 0.0005088 , 0.00001136, 0.00368464, 0.02542214,\n",
       "        0.00681879]),\n",
       " array([0.81548166, 0.0263453 , 0.        , 0.01223137, 0.0007286 ,\n",
       "        0.00334498, 0.03496107, 0.03127655, 0.02524525, 0.01369891,\n",
       "        0.00296611, 0.02378907, 0.02632961, 0.01603223, 0.01841586,\n",
       "        0.06104128, 0.0005088 , 0.00001136, 0.00368464, 0.02542214,\n",
       "        0.00681879]),\n",
       " array([0.81548166, 0.0263453 , 0.        , 0.01223137, 0.0007286 ,\n",
       "        0.00334498, 0.03496107, 0.03127655, 0.02524525, 0.01369891,\n",
       "        0.00296611, 0.02378907, 0.02632961, 0.01603223, 0.01841586,\n",
       "        0.06104128, 0.0005088 , 0.00001136, 0.00368464, 0.02542214,\n",
       "        0.00681879]),\n",
       " array([0.81548166, 0.0263453 , 0.        , 0.01223137, 0.0007286 ,\n",
       "        0.00334498, 0.03496107, 0.03127655, 0.02524525, 0.01369891,\n",
       "        0.00296611, 0.02378907, 0.02632961, 0.01603223, 0.01841586,\n",
       "        0.06104128, 0.0005088 , 0.00001136, 0.00368464, 0.02542214,\n",
       "        0.00681879]),\n",
       " array([0.81548166, 0.0263453 , 0.        , 0.01223137, 0.0007286 ,\n",
       "        0.00334498, 0.03496107, 0.03127655, 0.02524525, 0.01369891,\n",
       "        0.00296611, 0.02378907, 0.02632961, 0.01603223, 0.01841586,\n",
       "        0.06104128, 0.0005088 , 0.00001136, 0.00368464, 0.02542214,\n",
       "        0.00681879]),\n",
       " array([0.81548166, 0.0263453 , 0.        , 0.01223137, 0.0007286 ,\n",
       "        0.00334498, 0.03496107, 0.03127655, 0.02524525, 0.01369891,\n",
       "        0.00296611, 0.02378907, 0.02632961, 0.01603223, 0.01841586,\n",
       "        0.06104128, 0.0005088 , 0.00001136, 0.00368464, 0.02542214,\n",
       "        0.00681879]),\n",
       " array([0.81548166, 0.0263453 , 0.        , 0.01223137, 0.0007286 ,\n",
       "        0.00334498, 0.03496107, 0.03127655, 0.02524525, 0.01369891,\n",
       "        0.00296611, 0.02378907, 0.02632961, 0.01603223, 0.01841586,\n",
       "        0.06104128, 0.0005088 , 0.00001136, 0.00368464, 0.02542214,\n",
       "        0.00681879]),\n",
       " array([0.81548166, 0.0263453 , 0.        , 0.01223137, 0.0007286 ,\n",
       "        0.00334498, 0.03496107, 0.03127655, 0.02524525, 0.01369891,\n",
       "        0.00296611, 0.02378907, 0.02632961, 0.01603223, 0.01841586,\n",
       "        0.06104128, 0.0005088 , 0.00001136, 0.00368464, 0.02542214,\n",
       "        0.00681879]),\n",
       " array([0.81548166, 0.0263453 , 0.        , 0.01223137, 0.0007286 ,\n",
       "        0.00334498, 0.03496107, 0.03127655, 0.02524525, 0.01369891,\n",
       "        0.00296611, 0.02378907, 0.02632961, 0.01603223, 0.01841586,\n",
       "        0.06104128, 0.0005088 , 0.00001136, 0.00368464, 0.02542214,\n",
       "        0.00681879]),\n",
       " array([0.81548166, 0.0263453 , 0.        , 0.01223137, 0.0007286 ,\n",
       "        0.00334498, 0.03496107, 0.03127655, 0.02524525, 0.01369891,\n",
       "        0.00296611, 0.02378907, 0.02632961, 0.01603223, 0.01841586,\n",
       "        0.06104128, 0.0005088 , 0.00001136, 0.00368464, 0.02542214,\n",
       "        0.00681879]),\n",
       " array([0.81548166, 0.0263453 , 0.        , 0.01223137, 0.0007286 ,\n",
       "        0.00334498, 0.03496107, 0.03127655, 0.02524525, 0.01369891,\n",
       "        0.00296611, 0.02378907, 0.02632961, 0.01603223, 0.01841586,\n",
       "        0.06104128, 0.0005088 , 0.00001136, 0.00368464, 0.02542214,\n",
       "        0.00681879]),\n",
       " array([0.81548166, 0.0263453 , 0.        , 0.01223137, 0.0007286 ,\n",
       "        0.00334498, 0.03496107, 0.03127655, 0.02524525, 0.01369891,\n",
       "        0.00296611, 0.02378907, 0.02632961, 0.01603223, 0.01841586,\n",
       "        0.06104128, 0.0005088 , 0.00001136, 0.00368464, 0.02542214,\n",
       "        0.00681879]),\n",
       " array([0.81548166, 0.0263453 , 0.        , 0.01223137, 0.0007286 ,\n",
       "        0.00334498, 0.03496107, 0.03127655, 0.02524525, 0.01369891,\n",
       "        0.00296611, 0.02378907, 0.02632961, 0.01603223, 0.01841586,\n",
       "        0.06104128, 0.0005088 , 0.00001136, 0.00368464, 0.02542214,\n",
       "        0.00681879]),\n",
       " array([0.81548166, 0.0263453 , 0.        , 0.01223137, 0.0007286 ,\n",
       "        0.00334498, 0.03496107, 0.03127655, 0.02524525, 0.01369891,\n",
       "        0.00296611, 0.02378907, 0.02632961, 0.01603223, 0.01841586,\n",
       "        0.06104128, 0.0005088 , 0.00001136, 0.00368464, 0.02542214,\n",
       "        0.00681879])]"
      ]
     },
     "execution_count": 149,
     "metadata": {},
     "output_type": "execute_result"
    }
   ],
   "source": [
    "f1_epochs"
   ]
  },
  {
   "cell_type": "code",
   "execution_count": null,
   "metadata": {},
   "outputs": [],
   "source": []
  },
  {
   "cell_type": "markdown",
   "metadata": {
    "id": "7Vv6OtbRKUvi"
   },
   "source": [
    "### 1.9 Visualize results(0.5 points)\n",
    "For any 10 images in the dataset, show the images along the with their segmentation mask."
   ]
  },
  {
   "cell_type": "code",
   "execution_count": 15,
   "metadata": {},
   "outputs": [],
   "source": [
    "test = next(iter(dataloaders[\"val\"]))\n",
    "test_s = test[0].to(device)\n",
    "test_l = test[1].to(device)"
   ]
  },
  {
   "cell_type": "code",
   "execution_count": 16,
   "metadata": {},
   "outputs": [
    {
     "name": "stderr",
     "output_type": "stream",
     "text": [
      "Clipping input data to the valid range for imshow with RGB data ([0..1] for floats or [0..255] for integers).\n"
     ]
    },
    {
     "data": {
      "text/plain": [
       "<matplotlib.image.AxesImage at 0x7fa9f08f2dd8>"
      ]
     },
     "execution_count": 16,
     "metadata": {},
     "output_type": "execute_result"
    },
    {
     "data": {
      "image/png": "[encoded data removed]",
      "text/plain": [
       "<Figure size 432x288 with 1 Axes>"
      ]
     },
     "metadata": {
      "needs_background": "light"
     },
     "output_type": "display_data"
    }
   ],
   "source": [
    "plt.imshow(test_s[7].permute(1, 2, 0).cpu())"
   ]
  },
  {
   "cell_type": "code",
   "execution_count": 17,
   "metadata": {
    "id": "LQUPs4Y38psE"
   },
   "outputs": [
    {
     "data": {
      "text/plain": [
       "<matplotlib.image.AxesImage at 0x7fa9f060f048>"
      ]
     },
     "execution_count": 17,
     "metadata": {},
     "output_type": "execute_result"
    },
    {
     "data": {
      "image/png": "[encoded data removed]",
      "text/plain": [
       "<Figure size 432x288 with 1 Axes>"
      ]
     },
     "metadata": {
      "needs_background": "light"
     },
     "output_type": "display_data"
    }
   ],
   "source": [
    "plt.imshow(test_l[7].cpu())\n"
   ]
  },
  {
   "cell_type": "code",
   "execution_count": 18,
   "metadata": {
    "id": "XHuFp5io8rUB"
   },
   "outputs": [],
   "source": [
    "pred = model(test_s.to(device))"
   ]
  },
  {
   "cell_type": "code",
   "execution_count": 19,
   "metadata": {
    "id": "C4yE37sB8wfb"
   },
   "outputs": [],
   "source": [
    "pred = torch.argmax(pred.squeeze().cpu(), dim = 1)"
   ]
  },
  {
   "cell_type": "code",
   "execution_count": 20,
   "metadata": {
    "id": "icDfLjK84bCp"
   },
   "outputs": [
    {
     "data": {
      "text/plain": [
       "<matplotlib.image.AxesImage at 0x7fa9f05f1d30>"
      ]
     },
     "execution_count": 20,
     "metadata": {},
     "output_type": "execute_result"
    },
    {
     "data": {
      "image/png": "[encoded data removed]",
      "text/plain": [
       "<Figure size 432x288 with 1 Axes>"
      ]
     },
     "metadata": {
      "needs_background": "light"
     },
     "output_type": "display_data"
    }
   ],
   "source": [
    "plt.imshow(pred[7].detach().cpu())"
   ]
  },
  {
   "cell_type": "code",
   "execution_count": 144,
   "metadata": {},
   "outputs": [
    {
     "data": {
      "text/plain": [
       "<All keys matched successfully>"
      ]
     },
     "execution_count": 144,
     "metadata": {},
     "output_type": "execute_result"
    }
   ],
   "source": [
    "model.load_state_dict(torch.load('models/lr001/epoch-11.pt'))"
   ]
  },
  {
   "cell_type": "code",
   "execution_count": 145,
   "metadata": {},
   "outputs": [
    {
     "data": {
      "text/plain": [
       "<matplotlib.image.AxesImage at 0x7fa9df2daa58>"
      ]
     },
     "execution_count": 145,
     "metadata": {},
     "output_type": "execute_result"
    },
    {
     "data": {
      "image/png": "[encoded data removed]",
      "text/plain": [
       "<Figure size 432x288 with 1 Axes>"
      ]
     },
     "metadata": {
      "needs_background": "light"
     },
     "output_type": "display_data"
    }
   ],
   "source": [
    "pred = model(test_s.to(device))\n",
    "pred = torch.argmax(pred.squeeze().cpu(), dim = 1)\n",
    "plt.imshow(pred[7].detach().cpu())"
   ]
  },
  {
   "cell_type": "code",
   "execution_count": null,
   "metadata": {},
   "outputs": [],
   "source": []
  }
 ],
 "metadata": {
  "accelerator": "GPU",
  "colab": {
   "collapsed_sections": [],
   "name": "Vision_task_1.ipynb",
   "provenance": [],
   "toc_visible": true
  },
  "kernelspec": {
   "display_name": "Python 3",
   "language": "python",
   "name": "python3"
  },
  "language_info": {
   "codemirror_mode": {
    "name": "ipython",
    "version": 3
   },
   "file_extension": ".py",
   "mimetype": "text/x-python",
   "name": "python",
   "nbconvert_exporter": "python",
   "pygments_lexer": "ipython3",
   "version": "3.6.10"
  },
  "widgets": {
   "application/vnd.jupyter.widget-state+json": {
    "1dc5527ab1234c42ba273ee3050b29a4": {
     "model_module": "@jupyter-widgets/base",
     "model_name": "LayoutModel",
     "state": {
      "_model_module": "@jupyter-widgets/base",
      "_model_module_version": "1.2.0",
      "_model_name": "LayoutModel",
      "_view_count": null,
      "_view_module": "@jupyter-widgets/base",
      "_view_module_version": "1.2.0",
      "_view_name": "LayoutView",
      "align_content": null,
      "align_items": null,
      "align_self": null,
      "border": null,
      "bottom": null,
      "display": null,
      "flex": null,
      "flex_flow": null,
      "grid_area": null,
      "grid_auto_columns": null,
      "grid_auto_flow": null,
      "grid_auto_rows": null,
      "grid_column": null,
      "grid_gap": null,
      "grid_row": null,
      "grid_template_areas": null,
      "grid_template_columns": null,
      "grid_template_rows": null,
      "height": null,
      "justify_content": null,
      "justify_items": null,
      "left": null,
      "margin": null,
      "max_height": null,
      "max_width": null,
      "min_height": null,
      "min_width": null,
      "object_fit": null,
      "object_position": null,
      "order": null,
      "overflow": null,
      "overflow_x": null,
      "overflow_y": null,
      "padding": null,
      "right": null,
      "top": null,
      "visibility": null,
      "width": null
     }
    },
    "35774e8c329847c7b754431169509b08": {
     "model_module": "@jupyter-widgets/controls",
     "model_name": "HTMLModel",
     "state": {
      "_dom_classes": [],
      "_model_module": "@jupyter-widgets/controls",
      "_model_module_version": "1.5.0",
      "_model_name": "HTMLModel",
      "_view_count": null,
      "_view_module": "@jupyter-widgets/controls",
      "_view_module_version": "1.5.0",
      "_view_name": "HTMLView",
      "description": "",
      "description_tooltip": null,
      "layout": "IPY_MODEL_76a827a8e1de49b7ac8ad9456338a58a",
      "placeholder": "​",
      "style": "IPY_MODEL_556bdc8b591e42bebb2edd5b5d7a523e",
      "value": " 528M/528M [00:02&lt;00:00, 213MB/s]"
     }
    },
    "556bdc8b591e42bebb2edd5b5d7a523e": {
     "model_module": "@jupyter-widgets/controls",
     "model_name": "DescriptionStyleModel",
     "state": {
      "_model_module": "@jupyter-widgets/controls",
      "_model_module_version": "1.5.0",
      "_model_name": "DescriptionStyleModel",
      "_view_count": null,
      "_view_module": "@jupyter-widgets/base",
      "_view_module_version": "1.2.0",
      "_view_name": "StyleView",
      "description_width": ""
     }
    },
    "76a827a8e1de49b7ac8ad9456338a58a": {
     "model_module": "@jupyter-widgets/base",
     "model_name": "LayoutModel",
     "state": {
      "_model_module": "@jupyter-widgets/base",
      "_model_module_version": "1.2.0",
      "_model_name": "LayoutModel",
      "_view_count": null,
      "_view_module": "@jupyter-widgets/base",
      "_view_module_version": "1.2.0",
      "_view_name": "LayoutView",
      "align_content": null,
      "align_items": null,
      "align_self": null,
      "border": null,
      "bottom": null,
      "display": null,
      "flex": null,
      "flex_flow": null,
      "grid_area": null,
      "grid_auto_columns": null,
      "grid_auto_flow": null,
      "grid_auto_rows": null,
      "grid_column": null,
      "grid_gap": null,
      "grid_row": null,
      "grid_template_areas": null,
      "grid_template_columns": null,
      "grid_template_rows": null,
      "height": null,
      "justify_content": null,
      "justify_items": null,
      "left": null,
      "margin": null,
      "max_height": null,
      "max_width": null,
      "min_height": null,
      "min_width": null,
      "object_fit": null,
      "object_position": null,
      "order": null,
      "overflow": null,
      "overflow_x": null,
      "overflow_y": null,
      "padding": null,
      "right": null,
      "top": null,
      "visibility": null,
      "width": null
     }
    },
    "78c1e21770454abeada1f5f49493ae97": {
     "model_module": "@jupyter-widgets/base",
     "model_name": "LayoutModel",
     "state": {
      "_model_module": "@jupyter-widgets/base",
      "_model_module_version": "1.2.0",
      "_model_name": "LayoutModel",
      "_view_count": null,
      "_view_module": "@jupyter-widgets/base",
      "_view_module_version": "1.2.0",
      "_view_name": "LayoutView",
      "align_content": null,
      "align_items": null,
      "align_self": null,
      "border": null,
      "bottom": null,
      "display": null,
      "flex": null,
      "flex_flow": null,
      "grid_area": null,
      "grid_auto_columns": null,
      "grid_auto_flow": null,
      "grid_auto_rows": null,
      "grid_column": null,
      "grid_gap": null,
      "grid_row": null,
      "grid_template_areas": null,
      "grid_template_columns": null,
      "grid_template_rows": null,
      "height": null,
      "justify_content": null,
      "justify_items": null,
      "left": null,
      "margin": null,
      "max_height": null,
      "max_width": null,
      "min_height": null,
      "min_width": null,
      "object_fit": null,
      "object_position": null,
      "order": null,
      "overflow": null,
      "overflow_x": null,
      "overflow_y": null,
      "padding": null,
      "right": null,
      "top": null,
      "visibility": null,
      "width": null
     }
    },
    "c49e8163b69645c0b91ed3e4d9fde393": {
     "model_module": "@jupyter-widgets/controls",
     "model_name": "HBoxModel",
     "state": {
      "_dom_classes": [],
      "_model_module": "@jupyter-widgets/controls",
      "_model_module_version": "1.5.0",
      "_model_name": "HBoxModel",
      "_view_count": null,
      "_view_module": "@jupyter-widgets/controls",
      "_view_module_version": "1.5.0",
      "_view_name": "HBoxView",
      "box_style": "",
      "children": [
       "IPY_MODEL_e418b72e6b0043cf948006e641fde5c4",
       "IPY_MODEL_35774e8c329847c7b754431169509b08"
      ],
      "layout": "IPY_MODEL_78c1e21770454abeada1f5f49493ae97"
     }
    },
    "d75e0382ca0249c7935c8efaf4ef1b94": {
     "model_module": "@jupyter-widgets/controls",
     "model_name": "ProgressStyleModel",
     "state": {
      "_model_module": "@jupyter-widgets/controls",
      "_model_module_version": "1.5.0",
      "_model_name": "ProgressStyleModel",
      "_view_count": null,
      "_view_module": "@jupyter-widgets/base",
      "_view_module_version": "1.2.0",
      "_view_name": "StyleView",
      "bar_color": null,
      "description_width": "initial"
     }
    },
    "e418b72e6b0043cf948006e641fde5c4": {
     "model_module": "@jupyter-widgets/controls",
     "model_name": "FloatProgressModel",
     "state": {
      "_dom_classes": [],
      "_model_module": "@jupyter-widgets/controls",
      "_model_module_version": "1.5.0",
      "_model_name": "FloatProgressModel",
      "_view_count": null,
      "_view_module": "@jupyter-widgets/controls",
      "_view_module_version": "1.5.0",
      "_view_name": "ProgressView",
      "bar_style": "success",
      "description": "100%",
      "description_tooltip": null,
      "layout": "IPY_MODEL_1dc5527ab1234c42ba273ee3050b29a4",
      "max": 553433881,
      "min": 0,
      "orientation": "horizontal",
      "style": "IPY_MODEL_d75e0382ca0249c7935c8efaf4ef1b94",
      "value": 553433881
     }
    }
   }
  }
 },
 "nbformat": 4,
 "nbformat_minor": 1
}
