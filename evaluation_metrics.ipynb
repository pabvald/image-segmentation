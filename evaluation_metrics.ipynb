{
 "cells": [
  {
   "cell_type": "markdown",
   "metadata": {},
   "source": [
    "# Evaluation metrics for the Cityscapes dataset\n",
    "In this Jupyter Notebook we show how to compute and visualize different evaluation metrics for the Cityscapes Pixel-Segmentation task"
   ]
  },
  {
   "cell_type": "code",
   "execution_count": 1,
   "metadata": {},
   "outputs": [
    {
     "name": "stdout",
     "output_type": "stream",
     "text": [
      "Requirement already satisfied: cityscapesscripts in /opt/conda/lib/python3.6/site-packages (2.2.0)\n",
      "Requirement already satisfied: appdirs in /opt/conda/lib/python3.6/site-packages (from cityscapesscripts) (1.4.4)\n",
      "Requirement already satisfied: pyquaternion in /opt/conda/lib/python3.6/site-packages (from cityscapesscripts) (0.9.9)\n",
      "Requirement already satisfied: matplotlib in /opt/conda/lib/python3.6/site-packages (from cityscapesscripts) (3.2.2)\n",
      "Requirement already satisfied: pillow in /opt/conda/lib/python3.6/site-packages (from cityscapesscripts) (8.1.2)\n",
      "Requirement already satisfied: coloredlogs in /opt/conda/lib/python3.6/site-packages (from cityscapesscripts) (15.0)\n",
      "Requirement already satisfied: tqdm in /opt/conda/lib/python3.6/site-packages (from cityscapesscripts) (4.31.1)\n",
      "Requirement already satisfied: typing in /opt/conda/lib/python3.6/site-packages (from cityscapesscripts) (3.7.4.1)\n",
      "Requirement already satisfied: numpy in /opt/conda/lib/python3.6/site-packages (from cityscapesscripts) (1.18.5)\n",
      "Requirement already satisfied: python-dateutil>=2.1 in /opt/conda/lib/python3.6/site-packages (from matplotlib->cityscapesscripts) (2.8.1)\n",
      "Requirement already satisfied: cycler>=0.10 in /opt/conda/lib/python3.6/site-packages (from matplotlib->cityscapesscripts) (0.10.0)\n",
      "Requirement already satisfied: kiwisolver>=1.0.1 in /opt/conda/lib/python3.6/site-packages (from matplotlib->cityscapesscripts) (1.2.0)\n",
      "Requirement already satisfied: pyparsing!=2.0.4,!=2.1.2,!=2.1.6,>=2.0.1 in /opt/conda/lib/python3.6/site-packages (from matplotlib->cityscapesscripts) (2.4.7)\n",
      "Requirement already satisfied: humanfriendly>=9.1 in /opt/conda/lib/python3.6/site-packages (from coloredlogs->cityscapesscripts) (9.1)\n",
      "Requirement already satisfied: six>=1.5 in /opt/conda/lib/python3.6/site-packages (from python-dateutil>=2.1->matplotlib->cityscapesscripts) (1.15.0)\n"
     ]
    }
   ],
   "source": [
    "!pip install cityscapesscripts;"
   ]
  },
  {
   "cell_type": "markdown",
   "metadata": {},
   "source": [
    "## Imports"
   ]
  },
  {
   "cell_type": "code",
   "execution_count": 2,
   "metadata": {},
   "outputs": [],
   "source": [
    "import os\n",
    "import torch\n",
    "import zipfile\n",
    "import numpy as np\n",
    "from importlib import reload\n",
    "from os.path import join as pjoin\n",
    "from datasets.cityscapes import cityscapesDataset\n",
    "from cityscapesscripts.download import downloader \n",
    "from torchvision import transforms"
   ]
  },
  {
   "cell_type": "code",
   "execution_count": 3,
   "metadata": {},
   "outputs": [],
   "source": [
    "local_path = \"./Cityscapes\"\n",
    "pckgs_names = [\"gtFine_trainvaltest.zip\",\"leftImg8bit_trainvaltest.zip\"]\n",
    "dir_names = [\"gtFine\", \"leftImg8bit\"]"
   ]
  },
  {
   "cell_type": "markdown",
   "metadata": {},
   "source": [
    "### Load the dataset\n",
    "We assume that the datset *Cityscapes* has already been downloaded in the folder *local_path*. If this is not the case, check first the notebook [Exploring the Cityscapes dataset](./Cytyscapes_dataset.ipynb)"
   ]
  },
  {
   "cell_type": "code",
   "execution_count": 14,
   "metadata": {},
   "outputs": [
    {
     "name": "stdout",
     "output_type": "stream",
     "text": [
      "Annotations files processed\n",
      "Annotations files processed\n"
     ]
    }
   ],
   "source": [
    "training_data = cityscapesDataset(local_path, split=\"test\")\n",
    "test_data = cityscapesDataset(local_path, split=\"test\")"
   ]
  },
  {
   "cell_type": "code",
   "execution_count": 15,
   "metadata": {},
   "outputs": [],
   "source": [
    "img, lbl = test_data[7]"
   ]
  },
  {
   "cell_type": "code",
   "execution_count": 17,
   "metadata": {},
   "outputs": [
    {
     "data": {
      "text/plain": [
       "tensor([[255, 255, 255,  ..., 255, 255, 255],\n",
       "        [255, 255, 255,  ..., 255, 255, 255],\n",
       "        [255, 255, 255,  ..., 255, 255, 255],\n",
       "        ...,\n",
       "        [255, 255, 255,  ..., 255, 255, 255],\n",
       "        [255, 255, 255,  ..., 255, 255, 255],\n",
       "        [255, 255, 255,  ..., 255, 255, 255]])"
      ]
     },
     "execution_count": 17,
     "metadata": {},
     "output_type": "execute_result"
    }
   ],
   "source": [
    "img_train, lbl_train = training_data[7]\n",
    "lbl_train"
   ]
  },
  {
   "cell_type": "code",
   "execution_count": 10,
   "metadata": {},
   "outputs": [
    {
     "data": {
      "text/plain": [
       "tensor([[[ 1.2564,  1.2564,  1.3239,  ..., -1.3985, -1.3760, -1.3985],\n",
       "         [ 1.2339,  1.2339,  1.2789,  ..., -1.3985, -1.4210, -1.4210],\n",
       "         [ 1.2114,  1.2339,  1.2789,  ..., -1.4435, -1.4210, -1.4210],\n",
       "         ...,\n",
       "         [-0.6111, -0.6336, -0.6111,  ..., -0.6561, -0.6561, -0.6561],\n",
       "         [-0.5886, -0.6111, -0.6111,  ..., -0.6336, -0.6561, -0.6561],\n",
       "         [-0.5886, -0.5886, -0.6111,  ..., -0.6786, -0.6786, -0.6561]],\n",
       "\n",
       "        [[ 1.4676,  1.4238,  1.4457,  ..., -1.4413, -1.4413, -1.4632],\n",
       "         [ 1.4894,  1.4457,  1.4457,  ..., -1.4632, -1.4851, -1.5070],\n",
       "         [ 1.4676,  1.4238,  1.4676,  ..., -1.5070, -1.5070, -1.5070],\n",
       "         ...,\n",
       "         [-0.4353, -0.4571, -0.4571,  ..., -0.4790, -0.4790, -0.4790],\n",
       "         [-0.4571, -0.4571, -0.4790,  ..., -0.4790, -0.4790, -0.5227],\n",
       "         [-0.4571, -0.4571, -0.4571,  ..., -0.5227, -0.5227, -0.5446]],\n",
       "\n",
       "        [[ 1.3719,  1.2383,  1.2605,  ..., -1.2781, -1.2558, -1.2781],\n",
       "         [ 1.3942,  1.2605,  1.3051,  ..., -1.2781, -1.3004, -1.3004],\n",
       "         [ 1.3719,  1.3051,  1.3496,  ..., -1.3004, -1.3004, -1.3227],\n",
       "         ...,\n",
       "         [-0.4542, -0.4542, -0.4764,  ..., -0.3428, -0.3874, -0.3874],\n",
       "         [-0.4542, -0.4319, -0.4319,  ..., -0.3651, -0.3874, -0.4319],\n",
       "         [-0.4319, -0.4319, -0.4319,  ..., -0.4319, -0.4319, -0.4096]]])"
      ]
     },
     "execution_count": 10,
     "metadata": {},
     "output_type": "execute_result"
    }
   ],
   "source": [
    "img"
   ]
  },
  {
   "cell_type": "code",
   "execution_count": null,
   "metadata": {},
   "outputs": [],
   "source": []
  }
 ],
 "metadata": {
  "kernelspec": {
   "display_name": "Python 3",
   "language": "python",
   "name": "python3"
  },
  "language_info": {
   "codemirror_mode": {
    "name": "ipython",
    "version": 3
   },
   "file_extension": ".py",
   "mimetype": "text/x-python",
   "name": "python",
   "nbconvert_exporter": "python",
   "pygments_lexer": "ipython3",
   "version": "3.6.10"
  }
 },
 "nbformat": 4,
 "nbformat_minor": 4
}
